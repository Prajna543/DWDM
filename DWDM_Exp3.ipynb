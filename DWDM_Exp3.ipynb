{
  "nbformat": 4,
  "nbformat_minor": 0,
  "metadata": {
    "colab": {
      "provenance": [],
      "authorship_tag": "ABX9TyOKYyRaqIF4rbP3W5f6j9D1",
      "include_colab_link": true
    },
    "kernelspec": {
      "name": "python3",
      "display_name": "Python 3"
    },
    "language_info": {
      "name": "python"
    }
  },
  "cells": [
    {
      "cell_type": "markdown",
      "metadata": {
        "id": "view-in-github",
        "colab_type": "text"
      },
      "source": [
        "<a href=\"https://colab.research.google.com/github/Prajna543/DWDM/blob/main/DWDM_Exp3.ipynb\" target=\"_parent\"><img src=\"https://colab.research.google.com/assets/colab-badge.svg\" alt=\"Open In Colab\"/></a>"
      ]
    },
    {
      "cell_type": "code",
      "execution_count": null,
      "metadata": {
        "id": "sJwwAZPuPM7d"
      },
      "outputs": [],
      "source": [
        "from sklearn.datasets import load_iris\n",
        "import pandas as pd\n",
        "import numpy as np"
      ]
    },
    {
      "cell_type": "code",
      "source": [
        "iris = load_iris()"
      ],
      "metadata": {
        "id": "j5tWHIkoPqPP"
      },
      "execution_count": null,
      "outputs": []
    },
    {
      "cell_type": "code",
      "source": [
        "data = pd.DataFrame(iris.data,columns = iris.feature_names)"
      ],
      "metadata": {
        "id": "n5mBgnz_Punm"
      },
      "execution_count": null,
      "outputs": []
    },
    {
      "cell_type": "code",
      "source": [
        "data['target'] = iris.target"
      ],
      "metadata": {
        "id": "9RN6Ejs7P6IP"
      },
      "execution_count": null,
      "outputs": []
    },
    {
      "cell_type": "code",
      "source": [
        "from sklearn.metrics.pairwise import cosine_similarity\n",
        "\n",
        "cos_sim = cosine_similarity(data.iloc[[0]],data.iloc[[1]])\n",
        "print(cos_sim)"
      ],
      "metadata": {
        "colab": {
          "base_uri": "https://localhost:8080/"
        },
        "id": "xctxNCvlQUb-",
        "outputId": "c799034f-f4c5-4af9-f421-ab73527a4b66"
      },
      "execution_count": null,
      "outputs": [
        {
          "output_type": "stream",
          "name": "stdout",
          "text": [
            "[[0.99857916]]\n"
          ]
        }
      ]
    },
    {
      "cell_type": "code",
      "source": [
        "from sklearn.metrics.pairwise import euclidean_distances\n",
        "\n",
        "euclidean_dist = euclidean_distances(data.iloc[[0]], data.loc[[1]])\n",
        "print(euclidean_dist)\n"
      ],
      "metadata": {
        "colab": {
          "base_uri": "https://localhost:8080/"
        },
        "id": "9DCYRf08Q1aM",
        "outputId": "c7b94c98-ffcf-4e56-eee6-ef259ccdd5c7"
      },
      "execution_count": null,
      "outputs": [
        {
          "output_type": "stream",
          "name": "stdout",
          "text": [
            "[[0.53851648]]\n"
          ]
        }
      ]
    },
    {
      "cell_type": "code",
      "source": [
        "from scipy.stats import pearsonr\n",
        "\n",
        "corr, _ = pearsonr(data['petal length (cm)'], data['petal width (cm)'])\n",
        "\n",
        "print(corr)\n",
        "\n"
      ],
      "metadata": {
        "colab": {
          "base_uri": "https://localhost:8080/"
        },
        "id": "Q73uxGHbRdmk",
        "outputId": "2d70cbfd-fc83-46ea-ecea-310f68d65e06"
      },
      "execution_count": null,
      "outputs": [
        {
          "output_type": "stream",
          "name": "stdout",
          "text": [
            "0.962865431402796\n"
          ]
        }
      ]
    },
    {
      "cell_type": "code",
      "source": [
        "from sklearn.metrics import jaccard_score\n",
        "\n",
        "y_true = data.iloc[0]['target']\n",
        "y_pred = data.iloc[1]['target']\n",
        "\n",
        "if not isinstance(y_true, (list, tuple, np.ndarray, pd.Series)):\n",
        "    y_true = [y_true]\n",
        "if not isinstance(y_pred, (list, tuple, np.ndarray, pd.Series)):\n",
        "    y_pred = [y_pred]\n",
        "\n",
        "jaccard_sim = jaccard_score(y_true, y_pred, average='binary', zero_division=0)\n",
        "\n",
        "print(jaccard_sim)\n"
      ],
      "metadata": {
        "colab": {
          "base_uri": "https://localhost:8080/"
        },
        "id": "DgXp4jFhSUBW",
        "outputId": "249bf08b-80e3-44e3-9cd7-53991cd99974"
      },
      "execution_count": null,
      "outputs": [
        {
          "output_type": "stream",
          "name": "stdout",
          "text": [
            "0.0\n"
          ]
        }
      ]
    },
    {
      "cell_type": "code",
      "source": [
        "from sklearn.metrics.pairwise import manhattan_distances\n",
        "manhattan_dist = manhattan_distances(data.iloc[[0], :-1], data.iloc[[1], :-1])\n",
        "print(\"Manhattan distance:\", manhattan_dist[0][0])\n"
      ],
      "metadata": {
        "colab": {
          "base_uri": "https://localhost:8080/"
        },
        "id": "ibHqlva_UuGH",
        "outputId": "00fe7d6b-4d82-4e3a-a558-5b469e79a9c7"
      },
      "execution_count": null,
      "outputs": [
        {
          "output_type": "stream",
          "name": "stdout",
          "text": [
            "Manhattan distance: 0.6999999999999993\n"
          ]
        }
      ]
    }
  ]
}